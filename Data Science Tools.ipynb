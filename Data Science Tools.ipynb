{
 "cells": [
  {
   "cell_type": "markdown",
   "id": "73c71f25-50c1-4778-8d0f-f0e10140a4f1",
   "metadata": {},
   "source": [
    "# Data Science Tools"
   ]
  },
  {
   "cell_type": "markdown",
   "id": "b3f4643c-309c-4c0f-8547-192138385dff",
   "metadata": {},
   "source": [
    "###### In this notebook, Data Science Tools are summarized."
   ]
  },
  {
   "cell_type": "markdown",
   "id": "9f50aa5e-247f-4e98-8dae-736a92d9cf13",
   "metadata": {},
   "source": [
    "###### Some of the most used Data Science Programming Languages\n",
    "1. Python\n",
    "2. R\n",
    "3. Julia\n",
    "4. Java\n",
    "5. C\n",
    "6. C++\n",
    "7. MATLAB"
   ]
  },
  {
   "cell_type": "markdown",
   "id": "1d616654-fd52-4a41-9ae3-ac73fb438367",
   "metadata": {},
   "source": [
    "##### Below is a list of some of the Data Science Libraries\n",
    "1. Matplotlib\n",
    "2. TensorFlow\n",
    "3. Keras\n",
    "4. Numpy\n",
    "5. PyTorch\n",
    "6. SciPy"
   ]
  },
  {
   "cell_type": "markdown",
   "id": "dd16bcde-a563-4473-ba5d-8b4f8e61c5eb",
   "metadata": {},
   "source": [
    "##### Below is a table of Data Science tools\n",
    "|Data Science Tools|\n",
    "|------|\n",
    "|SAS|\n",
    "|Pandas|\n",
    "|Apache Spark|\n",
    "|Excel|\n",
    "|Tableau|"
   ]
  },
  {
   "cell_type": "markdown",
   "id": "717d2ca6-fa80-4c15-88c5-536cc5698f32",
   "metadata": {},
   "source": [
    "#### *Below are a few examples of evaluating arithmetic expression in Python.*"
   ]
  },
  {
   "cell_type": "code",
   "execution_count": 3,
   "id": "927acaa3-26eb-43b6-9106-2396f573709f",
   "metadata": {},
   "outputs": [
    {
     "data": {
      "text/plain": [
       "50"
      ]
     },
     "execution_count": 3,
     "metadata": {},
     "output_type": "execute_result"
    }
   ],
   "source": [
    "# Arithmetic Example using Multiplicaton and addition\n",
    "(3+7) *5 "
   ]
  },
  {
   "cell_type": "code",
   "execution_count": 6,
   "id": "d4082dc9-269c-4b69-907e-07e5b6ee17eb",
   "metadata": {},
   "outputs": [
    {
     "data": {
      "text/plain": [
       "9.0"
      ]
     },
     "execution_count": 6,
     "metadata": {},
     "output_type": "execute_result"
    }
   ],
   "source": [
    "# Hours to minutes. 1 hour equal 60 mins\n",
    "540/60"
   ]
  },
  {
   "cell_type": "markdown",
   "id": "8dec8431-f7cf-4350-82a2-90e058a130a8",
   "metadata": {},
   "source": [
    "##### Objective\n",
    "* List popular languages for Data Science\n",
    "* List popular libraries for Data Science\n",
    "* List Data Science Tools\n",
    "* Evaluate Arithmethic Express"
   ]
  },
  {
   "cell_type": "markdown",
   "id": "2cf0c9e3-f4ae-4a9a-97a2-0756dc9618c8",
   "metadata": {},
   "source": [
    "#### Author\n",
    "Jeremy Williams"
   ]
  },
  {
   "cell_type": "code",
   "execution_count": null,
   "id": "9daa50de-5250-4ae1-8311-f6c789a3c029",
   "metadata": {},
   "outputs": [],
   "source": []
  }
 ],
 "metadata": {
  "kernelspec": {
   "display_name": "Python 3 (ipykernel)",
   "language": "python",
   "name": "python3"
  },
  "language_info": {
   "codemirror_mode": {
    "name": "ipython",
    "version": 3
   },
   "file_extension": ".py",
   "mimetype": "text/x-python",
   "name": "python",
   "nbconvert_exporter": "python",
   "pygments_lexer": "ipython3",
   "version": "3.11.7"
  }
 },
 "nbformat": 4,
 "nbformat_minor": 5
}
